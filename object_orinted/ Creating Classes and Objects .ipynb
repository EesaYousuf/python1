{
 "cells": [
  {
   "cell_type": "code",
   "execution_count": null,
   "id": "1bacdec0",
   "metadata": {
    "vscode": {
     "languageId": "plaintext"
    }
   },
   "outputs": [],
   "source": [
    "\n",
    "class Car:\n",
    "    def __init__(self, brand, model):\n",
    "        self.brand = brand\n",
    "        self.model = model\n",
    "\n",
    "    def display(self):\n",
    "        print(f\"Car: {self.brand} {self.model}\")\n",
    "\n",
    "# Creating an object\n",
    "my_car = Car(\"Toyota\", \"Corolla\")\n",
    "my_car.display()\n"
   ]
  },
  {
   "cell_type": "code",
   "execution_count": null,
   "id": "8dcb7487",
   "metadata": {
    "vscode": {
     "languageId": "plaintext"
    }
   },
   "outputs": [],
   "source": [
    " Inheritance:\n",
    " class Vehicle:\n",
    "    def __init__(self, name):\n",
    "        self.name = name\n",
    "\n",
    "    def drive(self):\n",
    "        print(f\"{self.name} is moving.\")\n",
    "\n",
    "class Bike(Vehicle):\n",
    "    def drive(self):\n",
    "        print(f\"{self.name} is riding fast.\")\n",
    "\n",
    "bike = Bike(\"Yamaha\")\n",
    "bike.drive()\n",
    "\n"
   ]
  }
 ],
 "metadata": {
  "language_info": {
   "name": "python"
  }
 },
 "nbformat": 4,
 "nbformat_minor": 5
}
